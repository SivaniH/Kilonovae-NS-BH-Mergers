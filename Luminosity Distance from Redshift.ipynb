{
 "cells": [
  {
   "cell_type": "code",
   "execution_count": 2,
   "id": "fbe99ae5",
   "metadata": {},
   "outputs": [],
   "source": [
    "import astropy.units as u\n",
    "from astropy.cosmology import Planck13, z_at_value"
   ]
  },
  {
   "cell_type": "code",
   "execution_count": 3,
   "id": "b3b5fbbf",
   "metadata": {},
   "outputs": [],
   "source": [
    "from astropy.cosmology import WMAP9\n",
    "from astropy.cosmology import WMAP1\n"
   ]
  },
  {
   "cell_type": "code",
   "execution_count": 4,
   "id": "c9742d01",
   "metadata": {},
   "outputs": [],
   "source": [
    "from astropy.cosmology import Cosmology\n",
    "import numpy as np"
   ]
  },
  {
   "cell_type": "code",
   "execution_count": 1,
   "id": "c28a6911",
   "metadata": {},
   "outputs": [],
   "source": [
    "import math"
   ]
  },
  {
   "cell_type": "markdown",
   "id": "550218c1",
   "metadata": {},
   "source": [
    "## Redshift at d_l = 1081 Mpc with J = 17.88 & d = 40.7 Mpc"
   ]
  },
  {
   "cell_type": "code",
   "execution_count": 8,
   "id": "4e528734",
   "metadata": {},
   "outputs": [
    {
     "name": "stdout",
     "output_type": "stream",
     "text": [
      "z, planck13: 0.212335518088381 redshift\n",
      "z, WMAP9: 0.2159843089909167 redshift\n",
      "z, WMAP1: 0.22240972514420182 redshift\n"
     ]
    }
   ],
   "source": [
    "z1 = z_at_value(Planck13.luminosity_distance, 1081 * u.Mpc)\n",
    "z2 = z_at_value(WMAP9.luminosity_distance, 1081 * u.Mpc)\n",
    "z3 = z_at_value(WMAP1.luminosity_distance, 1081 * u.Mpc)\n",
    "\n",
    "print('z, planck13:', z1)\n",
    "print('z, WMAP9:', z2)\n",
    "print('z, WMAP1:', z3)"
   ]
  },
  {
   "cell_type": "markdown",
   "id": "4ff8cf99",
   "metadata": {},
   "source": [
    "## for i = 17.057, d_l = 1578 Mpc"
   ]
  },
  {
   "cell_type": "code",
   "execution_count": 9,
   "id": "6f29a25f",
   "metadata": {},
   "outputs": [
    {
     "name": "stdout",
     "output_type": "stream",
     "text": [
      "z, planck13: 0.29628481722085437 redshift\n",
      "z, WMAP9: 0.3009001836137072 redshift\n",
      "z, WMAP1: 0.3091162577415831 redshift\n"
     ]
    }
   ],
   "source": [
    "z1 = z_at_value(Planck13.luminosity_distance, 1578 * u.Mpc)\n",
    "z2 = z_at_value(WMAP9.luminosity_distance, 1578 * u.Mpc)\n",
    "z3 = z_at_value(WMAP1.luminosity_distance, 1578 * u.Mpc)\n",
    "\n",
    "print('z, planck13:', z1)\n",
    "print('z, WMAP9:', z2)\n",
    "print('z, WMAP1:', z3)"
   ]
  },
  {
   "cell_type": "markdown",
   "id": "c64d9a16",
   "metadata": {},
   "source": [
    "# Converting Apparent Magnitudes to Absolute"
   ]
  },
  {
   "cell_type": "markdown",
   "id": "1923e67a",
   "metadata": {},
   "source": [
    "### M = m - 5log10(d_pc) + 5"
   ]
  },
  {
   "cell_type": "code",
   "execution_count": 5,
   "id": "c03f7924",
   "metadata": {},
   "outputs": [],
   "source": [
    "def absm (m, d_pc):\n",
    "    abs_mag = (m - (5*math.log10(d_pc)) + 5)\n",
    "    return abs_mag"
   ]
  },
  {
   "cell_type": "code",
   "execution_count": 6,
   "id": "89041202",
   "metadata": {},
   "outputs": [
    {
     "data": {
      "text/plain": [
       "-15.247972046126105"
      ]
     },
     "execution_count": 6,
     "metadata": {},
     "output_type": "execute_result"
    }
   ],
   "source": [
    "absm(17.80, 40.7e6)"
   ]
  },
  {
   "cell_type": "code",
   "execution_count": null,
   "id": "269c304c",
   "metadata": {},
   "outputs": [],
   "source": []
  }
 ],
 "metadata": {
  "kernelspec": {
   "display_name": "Python 3 (ipykernel)",
   "language": "python",
   "name": "python3"
  },
  "language_info": {
   "codemirror_mode": {
    "name": "ipython",
    "version": 3
   },
   "file_extension": ".py",
   "mimetype": "text/x-python",
   "name": "python",
   "nbconvert_exporter": "python",
   "pygments_lexer": "ipython3",
   "version": "3.9.13"
  }
 },
 "nbformat": 4,
 "nbformat_minor": 5
}
