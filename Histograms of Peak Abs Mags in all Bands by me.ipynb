{
 "cells": [
  {
   "cell_type": "markdown",
   "id": "6f5692c4",
   "metadata": {},
   "source": [
    "# Gaussian Prior"
   ]
  },
  {
   "cell_type": "code",
   "execution_count": 1,
   "id": "dde44b9b",
   "metadata": {},
   "outputs": [],
   "source": [
    "import numpy as np\n",
    "import pandas as pd\n",
    "import json\n",
    "import matplotlib.pyplot as plt\n",
    "#from pprint import pprint"
   ]
  },
  {
   "cell_type": "code",
   "execution_count": 2,
   "id": "b4577416",
   "metadata": {},
   "outputs": [],
   "source": [
    "file = 'js_bns3_1011_clean.json'  #this is an older file\n",
    "with open(file) as f:  \n",
    "    data = json.load(f)\n",
    "\n",
    "klnv = data[\"kilonovae\"]"
   ]
  },
  {
   "cell_type": "markdown",
   "id": "a8a0f955",
   "metadata": {},
   "source": [
    "### Peak Absolute Mags."
   ]
  },
  {
   "cell_type": "code",
   "execution_count": 3,
   "id": "e47b19a5",
   "metadata": {},
   "outputs": [],
   "source": [
    "# g band\n",
    "g_absmags = []       #not necessary \n",
    "g_peak_absmags = []\n",
    "gpam_index=[]         #not that necessary\n",
    "\n",
    "for j in klnv:\n",
    "    absmagsg = [float(j[\"data_points\"][i][\"absolute_magnitude\"]) for i in range(len(j[\"data_points\"])) if j[\"data_points\"][i][\"band\"]==\"g\"]\n",
    "    peakabsmag = np.min(absmagsg)\n",
    "    g_peak_absmags.append(peakabsmag)\n",
    "    gpabsmagindex = np.argmin(absmagsg)\n",
    "    gpam_index.append(gpabsmagindex)"
   ]
  },
  {
   "cell_type": "code",
   "execution_count": 4,
   "id": "ff0c1daa",
   "metadata": {},
   "outputs": [],
   "source": [
    "#i band\n",
    "i_absmags = []       #not necessary \n",
    "i_peak_absmags = []\n",
    "ipam_index=[]         #not that necessary\n",
    "\n",
    "for j in klnv:\n",
    "    absmagsi = [float(j[\"data_points\"][i][\"absolute_magnitude\"]) for i in range(len(j[\"data_points\"])) if j[\"data_points\"][i][\"band\"]==\"i\"]\n",
    "    peakabsmagi = np.min(absmagsi)\n",
    "    i_peak_absmags.append(peakabsmagi)\n",
    "    ipabsmagindex = np.argmin(absmagsi)\n",
    "    ipam_index.append(ipabsmagindex)"
   ]
  },
  {
   "cell_type": "code",
   "execution_count": 5,
   "id": "765df698",
   "metadata": {},
   "outputs": [],
   "source": [
    "#r band\n",
    "r_absmags = []       #not necessary \n",
    "r_peak_absmags = []\n",
    "rpam_index=[]         #not that necessary\n",
    "\n",
    "for j in klnv:\n",
    "    absmagsr = [float(j[\"data_points\"][i][\"absolute_magnitude\"]) for i in range(len(j[\"data_points\"])) if j[\"data_points\"][i][\"band\"]==\"r\"]\n",
    "    peakabsmagr = np.min(absmagsr)\n",
    "    r_peak_absmags.append(peakabsmagr)\n",
    "    rpabsmagindex = np.argmin(absmagsr)\n",
    "    rpam_index.append(rpabsmagindex)"
   ]
  },
  {
   "cell_type": "code",
   "execution_count": 6,
   "id": "38ddc871",
   "metadata": {},
   "outputs": [],
   "source": [
    "#u band\n",
    "u_absmags = []       #not necessary \n",
    "u_peak_absmags = []\n",
    "upam_index=[]         #not that necessary\n",
    "\n",
    "for j in klnv:\n",
    "    absmagsu = [float(j[\"data_points\"][i][\"absolute_magnitude\"]) for i in range(len(j[\"data_points\"])) if j[\"data_points\"][i][\"band\"]==\"u\"]\n",
    "    peakabsmagu = np.min(absmagsu)\n",
    "    u_peak_absmags.append(peakabsmagu)\n",
    "    upabsmagindex = np.argmin(absmagsu)\n",
    "    upam_index.append(upabsmagindex)"
   ]
  },
  {
   "cell_type": "code",
   "execution_count": 7,
   "id": "afdbfba0",
   "metadata": {},
   "outputs": [],
   "source": [
    "#y band\n",
    "y_absmags = []       #not necessary \n",
    "y_peak_absmags = []\n",
    "ypam_index=[]         #not that necessary\n",
    "\n",
    "for j in klnv:\n",
    "    absmagsy = [float(j[\"data_points\"][i][\"absolute_magnitude\"]) for i in range(len(j[\"data_points\"])) if j[\"data_points\"][i][\"band\"]==\"y\"]\n",
    "    peakabsmagy = np.min(absmagsy)\n",
    "    y_peak_absmags.append(peakabsmagy)\n",
    "    ypabsmagindex = np.argmin(absmagsy)\n",
    "    ypam_index.append(ypabsmagindex)"
   ]
  },
  {
   "cell_type": "code",
   "execution_count": 8,
   "id": "f4cb5e97",
   "metadata": {},
   "outputs": [],
   "source": [
    "#z band\n",
    "z_absmags = []       #not necessary \n",
    "z_peak_absmags = []\n",
    "zpam_index=[]         #not that necessary\n",
    "\n",
    "for j in klnv:\n",
    "    absmagsz = [float(j[\"data_points\"][i][\"absolute_magnitude\"]) for i in range(len(j[\"data_points\"])) if j[\"data_points\"][i][\"band\"]==\"z\"]\n",
    "    peakabsmagz = np.min(absmagsz)\n",
    "    z_peak_absmags.append(peakabsmagz)\n",
    "    zpabsmagindex = np.argmin(absmagsz)\n",
    "    zpam_index.append(zpabsmagindex)"
   ]
  },
  {
   "cell_type": "code",
   "execution_count": 30,
   "id": "990831bc",
   "metadata": {},
   "outputs": [
    {
     "data": {
      "text/plain": [
       "<matplotlib.legend.Legend at 0x1d63306d280>"
      ]
     },
     "execution_count": 30,
     "metadata": {},
     "output_type": "execute_result"
    },
    {
     "data": {
      "image/png": "[encoded data removed]",
      "text/plain": [
       "<Figure size 640x480 with 1 Axes>"
      ]
     },
     "metadata": {},
     "output_type": "display_data"
    }
   ],
   "source": [
    "plt.gca().invert_xaxis()\n",
    "plt.hist(g_peak_absmags, bins = 30, color='blue', histtype='step', label= 'g')\n",
    "plt.hist(i_peak_absmags, bins = 30, color='red', histtype='step', label='i' )\n",
    "plt.hist(r_peak_absmags, bins = 30, color='green', histtype='step', label='r')\n",
    "plt.hist(y_peak_absmags, bins = 30, color='cyan', histtype='step', label='y')\n",
    "plt.hist(u_peak_absmags, bins = 30, color='orange', histtype='step', label='u')\n",
    "plt.hist(z_peak_absmags, bins = 30, color='purple', histtype='step', label='z')\n",
    "plt.legend()"
   ]
  },
  {
   "cell_type": "markdown",
   "id": "0eb0d4ea",
   "metadata": {},
   "source": [
    "# Flat Prior"
   ]
  },
  {
   "cell_type": "code",
   "execution_count": 4,
   "id": "eae6d865",
   "metadata": {},
   "outputs": [],
   "source": [
    "file = '2411 jsons/js_bns3_2411_clean.json'\n",
    "with open(file) as f:  \n",
    "    data = json.load(f)\n",
    "\n",
    "klnv = data[\"kilonovae\"]"
   ]
  },
  {
   "cell_type": "code",
   "execution_count": 5,
   "id": "1c53272f",
   "metadata": {},
   "outputs": [],
   "source": [
    "# g band\n",
    "g_absmags = []       #not necessary \n",
    "g_peak_absmags = []\n",
    "gpam_index=[]         #not that necessary\n",
    "\n",
    "for j in klnv:\n",
    "    absmagsg = [float(j[\"data_points\"][i][\"absolute_magnitude\"]) for i in range(len(j[\"data_points\"])) if j[\"data_points\"][i][\"band\"]==\"g\"]\n",
    "    peakabsmag = np.min(absmagsg)\n",
    "    g_peak_absmags.append(peakabsmag)\n",
    "    gpabsmagindex = np.argmin(absmagsg)\n",
    "    gpam_index.append(gpabsmagindex)\n",
    "    \n",
    "    \n",
    "#i band\n",
    "i_absmags = []       #not necessary \n",
    "i_peak_absmags = []\n",
    "ipam_index=[]         #not that necessary\n",
    "\n",
    "for j in klnv:\n",
    "    absmagsi = [float(j[\"data_points\"][i][\"absolute_magnitude\"]) for i in range(len(j[\"data_points\"])) if j[\"data_points\"][i][\"band\"]==\"i\"]\n",
    "    peakabsmagi = np.min(absmagsi)\n",
    "    i_peak_absmags.append(peakabsmagi)\n",
    "    ipabsmagindex = np.argmin(absmagsi)\n",
    "    ipam_index.append(ipabsmagindex)\n",
    "    \n",
    "    \n",
    "#r band\n",
    "r_absmags = []       #not necessary \n",
    "r_peak_absmags = []\n",
    "rpam_index=[]         #not that necessary\n",
    "\n",
    "for j in klnv:\n",
    "    absmagsr = [float(j[\"data_points\"][i][\"absolute_magnitude\"]) for i in range(len(j[\"data_points\"])) if j[\"data_points\"][i][\"band\"]==\"r\"]\n",
    "    peakabsmagr = np.min(absmagsr)\n",
    "    r_peak_absmags.append(peakabsmagr)\n",
    "    rpabsmagindex = np.argmin(absmagsr)\n",
    "    rpam_index.append(rpabsmagindex)\n",
    "    \n",
    "    \n",
    "    \n",
    "#u band\n",
    "u_absmags = []       #not necessary \n",
    "u_peak_absmags = []\n",
    "upam_index=[]         #not that necessary\n",
    "\n",
    "for j in klnv:\n",
    "    absmagsu = [float(j[\"data_points\"][i][\"absolute_magnitude\"]) for i in range(len(j[\"data_points\"])) if j[\"data_points\"][i][\"band\"]==\"u\"]\n",
    "    peakabsmagu = np.min(absmagsu)\n",
    "    u_peak_absmags.append(peakabsmagu)\n",
    "    upabsmagindex = np.argmin(absmagsu)\n",
    "    upam_index.append(upabsmagindex)\n",
    "    \n",
    "    \n",
    "    \n",
    "#y band\n",
    "y_absmags = []       #not necessary \n",
    "y_peak_absmags = []\n",
    "ypam_index=[]         #not that necessary\n",
    "\n",
    "for j in klnv:\n",
    "    absmagsy = [float(j[\"data_points\"][i][\"absolute_magnitude\"]) for i in range(len(j[\"data_points\"])) if j[\"data_points\"][i][\"band\"]==\"y\"]\n",
    "    peakabsmagy = np.min(absmagsy)\n",
    "    y_peak_absmags.append(peakabsmagy)\n",
    "    ypabsmagindex = np.argmin(absmagsy)\n",
    "    ypam_index.append(ypabsmagindex)\n",
    "    \n",
    "    \n",
    "#z band\n",
    "z_absmags = []       #not necessary \n",
    "z_peak_absmags = []\n",
    "zpam_index=[]         #not that necessary\n",
    "\n",
    "for j in klnv:\n",
    "    absmagsz = [float(j[\"data_points\"][i][\"absolute_magnitude\"]) for i in range(len(j[\"data_points\"])) if j[\"data_points\"][i][\"band\"]==\"z\"]\n",
    "    peakabsmagz = np.min(absmagsz)\n",
    "    z_peak_absmags.append(peakabsmagz)\n",
    "    zpabsmagindex = np.argmin(absmagsz)\n",
    "    zpam_index.append(zpabsmagindex)"
   ]
  },
  {
   "cell_type": "code",
   "execution_count": 7,
   "id": "7cca4e77",
   "metadata": {},
   "outputs": [
    {
     "data": {
      "text/plain": [
       "<matplotlib.legend.Legend at 0x204cc782760>"
      ]
     },
     "execution_count": 7,
     "metadata": {},
     "output_type": "execute_result"
    },
    {
     "data": {
      "image/png": "[encoded data removed]",
      "text/plain": [
       "<Figure size 640x480 with 1 Axes>"
      ]
     },
     "metadata": {},
     "output_type": "display_data"
    }
   ],
   "source": [
    "plt.gca().invert_xaxis()\n",
    "plt.hist(g_peak_absmags, bins = 30, color='blue', histtype='step', label= 'g')\n",
    "plt.hist(i_peak_absmags, bins = 30, color='red', histtype='step', label='i' )\n",
    "plt.hist(r_peak_absmags, bins = 30, color='green', histtype='step', label='r')\n",
    "plt.hist(y_peak_absmags, bins = 30, color='cyan', histtype='step', label='y')\n",
    "plt.hist(u_peak_absmags, bins = 30, color='orange', histtype='step', label='u')\n",
    "plt.hist(z_peak_absmags, bins = 30, color='purple', histtype='step', label='z')\n",
    "plt.xlabel(\"Absolute Magnitude\")\n",
    "plt.ylabel(\"Bin Count\")\n",
    "plt.legend()"
   ]
  },
  {
   "cell_type": "code",
   "execution_count": null,
   "id": "798b6bcd",
   "metadata": {},
   "outputs": [],
   "source": []
  }
 ],
 "metadata": {
  "kernelspec": {
   "display_name": "Python 3 (ipykernel)",
   "language": "python",
   "name": "python3"
  },
  "language_info": {
   "codemirror_mode": {
    "name": "ipython",
    "version": 3
   },
   "file_extension": ".py",
   "mimetype": "text/x-python",
   "name": "python",
   "nbconvert_exporter": "python",
   "pygments_lexer": "ipython3",
   "version": "3.9.13"
  }
 },
 "nbformat": 4,
 "nbformat_minor": 5
}
