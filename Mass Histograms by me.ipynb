{
 "cells": [
  {
   "cell_type": "code",
   "execution_count": 1,
   "id": "e636f6b8",
   "metadata": {
    "collapsed": true
   },
   "outputs": [
    {
     "name": "stdout",
     "output_type": "stream",
     "text": [
      "Collecting tabula-py\n",
      "  Downloading tabula_py-2.5.1-py3-none-any.whl (12.0 MB)\n",
      "     ---------------------------------------- 12.0/12.0 MB 3.3 MB/s eta 0:00:00\n",
      "Requirement already satisfied: numpy in c:\\users\\sivan\\anaconda3 2022\\lib\\site-packages (from tabula-py) (1.21.5)\n",
      "Collecting distro\n",
      "  Downloading distro-1.8.0-py3-none-any.whl (20 kB)\n",
      "Requirement already satisfied: pandas>=0.25.3 in c:\\users\\sivan\\anaconda3 2022\\lib\\site-packages (from tabula-py) (1.4.4)\n",
      "Requirement already satisfied: python-dateutil>=2.8.1 in c:\\users\\sivan\\anaconda3 2022\\lib\\site-packages (from pandas>=0.25.3->tabula-py) (2.8.2)\n",
      "Requirement already satisfied: pytz>=2020.1 in c:\\users\\sivan\\anaconda3 2022\\lib\\site-packages (from pandas>=0.25.3->tabula-py) (2022.1)\n",
      "Requirement already satisfied: six>=1.5 in c:\\users\\sivan\\anaconda3 2022\\lib\\site-packages (from python-dateutil>=2.8.1->pandas>=0.25.3->tabula-py) (1.16.0)\n",
      "Installing collected packages: distro, tabula-py\n",
      "Successfully installed distro-1.8.0 tabula-py-2.5.1\n",
      "Note: you may need to restart the kernel to use updated packages.\n"
     ]
    }
   ],
   "source": [
    "pip install tabula-py"
   ]
  },
  {
   "cell_type": "code",
   "execution_count": 57,
   "id": "c2c9dcb2",
   "metadata": {},
   "outputs": [
    {
     "name": "stdout",
     "output_type": "stream",
     "text": [
      "Requirement already satisfied: tabulate in c:\\users\\sivan\\anaconda3 2022\\lib\\site-packages (0.8.10)\n",
      "Note: you may need to restart the kernel to use updated packages.\n"
     ]
    }
   ],
   "source": [
    "pip install tabulate"
   ]
  },
  {
   "cell_type": "code",
   "execution_count": 2,
   "id": "3a1f2957",
   "metadata": {},
   "outputs": [],
   "source": [
    "import tabula"
   ]
  },
  {
   "cell_type": "code",
   "execution_count": 3,
   "id": "5190abcf",
   "metadata": {},
   "outputs": [],
   "source": [
    "file = \"https://arxiv.org/pdf/1902.03300.pdf\""
   ]
  },
  {
   "cell_type": "code",
   "execution_count": 5,
   "id": "ef420f11",
   "metadata": {
    "collapsed": true
   },
   "outputs": [
    {
     "name": "stderr",
     "output_type": "stream",
     "text": [
      "Got stderr: Oct 24, 2022 10:45:38 PM org.apache.pdfbox.pdmodel.font.FileSystemFontProvider loadDiskCache\r\n",
      "WARNING: New fonts found, font cache will be re-built\r\n",
      "Oct 24, 2022 10:45:38 PM org.apache.pdfbox.pdmodel.font.FileSystemFontProvider <init>\r\n",
      "WARNING: Building on-disk font cache, this may take a while\r\n",
      "Oct 24, 2022 10:45:39 PM org.apache.pdfbox.pdmodel.font.FileSystemFontProvider <init>\r\n",
      "WARNING: Finished building on-disk font cache, found 373 fonts\r\n",
      "Oct 24, 2022 10:45:39 PM org.apache.pdfbox.pdmodel.font.PDSimpleFont toUnicode\r\n",
      "WARNING: No Unicode mapping for circledot (12) in font WZWTWL+CMSY6\r\n",
      "Oct 24, 2022 10:45:39 PM org.apache.pdfbox.pdmodel.font.PDSimpleFont toUnicode\r\n",
      "WARNING: No Unicode mapping for bracketleftBigg (34) in font XYQZCV+CMEX10\r\n",
      "Oct 24, 2022 10:45:39 PM org.apache.pdfbox.pdmodel.font.PDSimpleFont toUnicode\r\n",
      "WARNING: No Unicode mapping for bracketrightBigg (35) in font XYQZCV+CMEX10\r\n",
      "Oct 24, 2022 10:45:39 PM org.apache.pdfbox.pdmodel.font.PDSimpleFont toUnicode\r\n",
      "WARNING: No Unicode mapping for integraldisplay (90) in font XYQZCV+CMEX10\r\n",
      "Oct 24, 2022 10:45:39 PM org.apache.pdfbox.pdmodel.font.PDSimpleFont toUnicode\r\n",
      "WARNING: No Unicode mapping for bracketleftBig (104) in font XYQZCV+CMEX10\r\n",
      "Oct 24, 2022 10:45:39 PM org.apache.pdfbox.pdmodel.font.PDSimpleFont toUnicode\r\n",
      "WARNING: No Unicode mapping for bracketrightBig (105) in font XYQZCV+CMEX10\r\n",
      "Oct 24, 2022 10:45:39 PM org.apache.pdfbox.pdmodel.font.PDSimpleFont toUnicode\r\n",
      "WARNING: No Unicode mapping for parenleftbigg (18) in font XYQZCV+CMEX10\r\n",
      "Oct 24, 2022 10:45:39 PM org.apache.pdfbox.pdmodel.font.PDSimpleFont toUnicode\r\n",
      "WARNING: No Unicode mapping for parenrightbigg (19) in font XYQZCV+CMEX10\r\n",
      "\n"
     ]
    }
   ],
   "source": [
    "table = tabula.read_pdf(file,pages=3)"
   ]
  },
  {
   "cell_type": "code",
   "execution_count": null,
   "id": "72acaaf7",
   "metadata": {},
   "outputs": [],
   "source": []
  },
  {
   "cell_type": "code",
   "execution_count": null,
   "id": "0bebcc23",
   "metadata": {},
   "outputs": [],
   "source": []
  },
  {
   "cell_type": "code",
   "execution_count": 17,
   "id": "cb8d58d0",
   "metadata": {
    "collapsed": true
   },
   "outputs": [
    {
     "name": "stderr",
     "output_type": "stream",
     "text": [
      "Got stderr: Oct 24, 2022 11:23:55 PM org.apache.pdfbox.pdmodel.font.PDSimpleFont toUnicode\r\n",
      "WARNING: No Unicode mapping for circledot (12) in font WZWTWL+CMSY6\r\n",
      "Oct 24, 2022 11:23:55 PM org.apache.pdfbox.pdmodel.font.PDSimpleFont toUnicode\r\n",
      "WARNING: No Unicode mapping for bracketleftBigg (34) in font XYQZCV+CMEX10\r\n",
      "Oct 24, 2022 11:23:55 PM org.apache.pdfbox.pdmodel.font.PDSimpleFont toUnicode\r\n",
      "WARNING: No Unicode mapping for bracketrightBigg (35) in font XYQZCV+CMEX10\r\n",
      "Oct 24, 2022 11:23:55 PM org.apache.pdfbox.pdmodel.font.PDSimpleFont toUnicode\r\n",
      "WARNING: No Unicode mapping for integraldisplay (90) in font XYQZCV+CMEX10\r\n",
      "Oct 24, 2022 11:23:55 PM org.apache.pdfbox.pdmodel.font.PDSimpleFont toUnicode\r\n",
      "WARNING: No Unicode mapping for bracketleftBig (104) in font XYQZCV+CMEX10\r\n",
      "Oct 24, 2022 11:23:55 PM org.apache.pdfbox.pdmodel.font.PDSimpleFont toUnicode\r\n",
      "WARNING: No Unicode mapping for bracketrightBig (105) in font XYQZCV+CMEX10\r\n",
      "Oct 24, 2022 11:23:55 PM org.apache.pdfbox.pdmodel.font.PDSimpleFont toUnicode\r\n",
      "WARNING: No Unicode mapping for parenleftbigg (18) in font XYQZCV+CMEX10\r\n",
      "Oct 24, 2022 11:23:55 PM org.apache.pdfbox.pdmodel.font.PDSimpleFont toUnicode\r\n",
      "WARNING: No Unicode mapping for parenrightbigg (19) in font XYQZCV+CMEX10\r\n",
      "\n"
     ]
    }
   ],
   "source": [
    "tabula.convert_into(file, \"mass_dist.csv\", output_format=\"csv\", pages='3')"
   ]
  },
  {
   "cell_type": "code",
   "execution_count": 3,
   "id": "e757aa37",
   "metadata": {},
   "outputs": [],
   "source": [
    "import pandas as pd"
   ]
  },
  {
   "cell_type": "code",
   "execution_count": 46,
   "id": "55b66540",
   "metadata": {},
   "outputs": [
    {
     "data": {
      "text/html": [
       "<div>\n",
       "<style scoped>\n",
       "    .dataframe tbody tr th:only-of-type {\n",
       "        vertical-align: middle;\n",
       "    }\n",
       "\n",
       "    .dataframe tbody tr th {\n",
       "        vertical-align: top;\n",
       "    }\n",
       "\n",
       "    .dataframe thead th {\n",
       "        text-align: right;\n",
       "    }\n",
       "</style>\n",
       "<table border=\"1\" class=\"dataframe\">\n",
       "  <thead>\n",
       "    <tr style=\"text-align: right;\">\n",
       "      <th></th>\n",
       "      <th>Pulsar Name,, MT (M,),,mr (M ),ms (M),,Mc (M),,q,,,Pb (day),,Tc (Gyr)</th>\n",
       "    </tr>\n",
       "  </thead>\n",
       "  <tbody>\n",
       "    <tr>\n",
       "      <th>0</th>\n",
       "      <td>,,,Systems will merge within a Hubble time,,,,...</td>\n",
       "    </tr>\n",
       "    <tr>\n",
       "      <th>1</th>\n",
       "      <td>J1946+2052,, 2.50(4),,&lt; 1.35,,&gt; 1.17,,\"(1.05, ...</td>\n",
       "    </tr>\n",
       "    <tr>\n",
       "      <th>2</th>\n",
       "      <td>J1756?2251,, 2.56999(6),,1.341(7),,1.230(7),,1...</td>\n",
       "    </tr>\n",
       "    <tr>\n",
       "      <th>3</th>\n",
       "      <td>J0737?3039A/B,, 2.58708(16),,1.3381(7),,1.2489...</td>\n",
       "    </tr>\n",
       "    <tr>\n",
       "      <th>4</th>\n",
       "      <td>J1906+0746,, 2.6134(3),,1.322(11),,1.291(11),,...</td>\n",
       "    </tr>\n",
       "    <tr>\n",
       "      <th>5</th>\n",
       "      <td>B1534+12,, 2.678463(4),,1.3330(2),,1.3455(2),,...</td>\n",
       "    </tr>\n",
       "    <tr>\n",
       "      <th>6</th>\n",
       "      <td>B2127+11C,, 2.71279(13),,1.358(10),,1.354(10),...</td>\n",
       "    </tr>\n",
       "    <tr>\n",
       "      <th>7</th>\n",
       "      <td>J1757?1854,, 2.73295(9),,1.3384(9),,1.3946(9),...</td>\n",
       "    </tr>\n",
       "    <tr>\n",
       "      <th>8</th>\n",
       "      <td>J0509+3801,, 2.805(3),,1.34(8),,1.46(8),,1.215...</td>\n",
       "    </tr>\n",
       "    <tr>\n",
       "      <th>9</th>\n",
       "      <td>B1913+16,, 2.828378(7),,1.4398(2),,1.3886(2),,...</td>\n",
       "    </tr>\n",
       "    <tr>\n",
       "      <th>10</th>\n",
       "      <td>J1913+1102,, 2.886(1),,1.65(5),,1.24(5),,1.242...</td>\n",
       "    </tr>\n",
       "    <tr>\n",
       "      <th>11</th>\n",
       "      <td>,,,Systems will not merge within a Hubble time...</td>\n",
       "    </tr>\n",
       "    <tr>\n",
       "      <th>12</th>\n",
       "      <td>J1807?2500B,, 2.57190(73),,1.3655(21),,1.2064(...</td>\n",
       "    </tr>\n",
       "    <tr>\n",
       "      <th>13</th>\n",
       "      <td>J1518+4904,, 2.7183(7),,1.41(8),,1.31(8),,1.18...</td>\n",
       "    </tr>\n",
       "    <tr>\n",
       "      <th>14</th>\n",
       "      <td>J0453+1559,, 2.733(4),,1.559(5),,1.174(4),,1.1...</td>\n",
       "    </tr>\n",
       "    <tr>\n",
       "      <th>15</th>\n",
       "      <td>J1411+2551,, 2.538(22),,&lt; 1.64,,&gt; 0.92,,\"(1.05...</td>\n",
       "    </tr>\n",
       "    <tr>\n",
       "      <th>16</th>\n",
       "      <td>J1811?1736,, 2.57(10),,&lt; 1.75,,&gt; 0.91,,\"(1.02,...</td>\n",
       "    </tr>\n",
       "    <tr>\n",
       "      <th>17</th>\n",
       "      <td>J1829+2456,, 2.59(2),,&lt; 1.36,,&gt; 1.25,,\"(1.08, ...</td>\n",
       "    </tr>\n",
       "    <tr>\n",
       "      <th>18</th>\n",
       "      <td>5J1930?1852,, 2.59(4),,&lt; 1.32,,&gt; 1.30,,\"(1.07,...</td>\n",
       "    </tr>\n",
       "  </tbody>\n",
       "</table>\n",
       "</div>"
      ],
      "text/plain": [
       "   Pulsar Name,, MT (M,),,mr (M ),ms (M),,Mc (M),,q,,,Pb (day),,Tc (Gyr)\n",
       "0   ,,,Systems will merge within a Hubble time,,,,...                   \n",
       "1   J1946+2052,, 2.50(4),,< 1.35,,> 1.17,,\"(1.05, ...                   \n",
       "2   J1756?2251,, 2.56999(6),,1.341(7),,1.230(7),,1...                   \n",
       "3   J0737?3039A/B,, 2.58708(16),,1.3381(7),,1.2489...                   \n",
       "4   J1906+0746,, 2.6134(3),,1.322(11),,1.291(11),,...                   \n",
       "5   B1534+12,, 2.678463(4),,1.3330(2),,1.3455(2),,...                   \n",
       "6   B2127+11C,, 2.71279(13),,1.358(10),,1.354(10),...                   \n",
       "7   J1757?1854,, 2.73295(9),,1.3384(9),,1.3946(9),...                   \n",
       "8   J0509+3801,, 2.805(3),,1.34(8),,1.46(8),,1.215...                   \n",
       "9   B1913+16,, 2.828378(7),,1.4398(2),,1.3886(2),,...                   \n",
       "10  J1913+1102,, 2.886(1),,1.65(5),,1.24(5),,1.242...                   \n",
       "11  ,,,Systems will not merge within a Hubble time...                   \n",
       "12  J1807?2500B,, 2.57190(73),,1.3655(21),,1.2064(...                   \n",
       "13  J1518+4904,, 2.7183(7),,1.41(8),,1.31(8),,1.18...                   \n",
       "14  J0453+1559,, 2.733(4),,1.559(5),,1.174(4),,1.1...                   \n",
       "15  J1411+2551,, 2.538(22),,< 1.64,,> 0.92,,\"(1.05...                   \n",
       "16  J1811?1736,, 2.57(10),,< 1.75,,> 0.91,,\"(1.02,...                   \n",
       "17  J1829+2456,, 2.59(2),,< 1.36,,> 1.25,,\"(1.08, ...                   \n",
       "18  5J1930?1852,, 2.59(4),,< 1.32,,> 1.30,,\"(1.07,...                   "
      ]
     },
     "execution_count": 46,
     "metadata": {},
     "output_type": "execute_result"
    }
   ],
   "source": [
    "pd.read_table('mass_dist.csv')"
   ]
  },
  {
   "cell_type": "code",
   "execution_count": 13,
   "id": "daa79158",
   "metadata": {},
   "outputs": [],
   "source": [
    "import numpy as np\n",
    "import matplotlib.pyplot as plt"
   ]
  },
  {
   "cell_type": "code",
   "execution_count": 4,
   "id": "bf0650cf",
   "metadata": {},
   "outputs": [],
   "source": [
    "data = pd.read_csv('Downloads/mass_dist.csv')\n"
   ]
  },
  {
   "cell_type": "code",
   "execution_count": 9,
   "id": "e316e95b",
   "metadata": {},
   "outputs": [
    {
     "data": {
      "text/html": [
       "<div>\n",
       "<style scoped>\n",
       "    .dataframe tbody tr th:only-of-type {\n",
       "        vertical-align: middle;\n",
       "    }\n",
       "\n",
       "    .dataframe tbody tr th {\n",
       "        vertical-align: top;\n",
       "    }\n",
       "\n",
       "    .dataframe thead th {\n",
       "        text-align: right;\n",
       "    }\n",
       "</style>\n",
       "<table border=\"1\" class=\"dataframe\">\n",
       "  <thead>\n",
       "    <tr style=\"text-align: right;\">\n",
       "      <th></th>\n",
       "      <th>Pulsar Name</th>\n",
       "      <th>MT(M)</th>\n",
       "      <th>mr(M )</th>\n",
       "      <th>ms(M)</th>\n",
       "      <th>Mc(M)</th>\n",
       "      <th>q</th>\n",
       "      <th>Pb(day)</th>\n",
       "      <th>Tc(Gyr)</th>\n",
       "    </tr>\n",
       "  </thead>\n",
       "  <tbody>\n",
       "    <tr>\n",
       "      <th>0</th>\n",
       "      <td>J1946+2052</td>\n",
       "      <td>2.50(4)</td>\n",
       "      <td>&lt; 1.35</td>\n",
       "      <td>&gt; 1.17</td>\n",
       "      <td>1.08000</td>\n",
       "      <td>0.8400</td>\n",
       "      <td>0.078</td>\n",
       "      <td>0.046</td>\n",
       "    </tr>\n",
       "    <tr>\n",
       "      <th>1</th>\n",
       "      <td>J1756-2251</td>\n",
       "      <td>2.56999(6)</td>\n",
       "      <td>1.341(7)</td>\n",
       "      <td>1.230(7)</td>\n",
       "      <td>1.11780</td>\n",
       "      <td>0.9200</td>\n",
       "      <td>0.320</td>\n",
       "      <td>1.656</td>\n",
       "    </tr>\n",
       "    <tr>\n",
       "      <th>2</th>\n",
       "      <td>J0737-3039A/B</td>\n",
       "      <td>2.58708(16)</td>\n",
       "      <td>1.3381(7)</td>\n",
       "      <td>1.2489(7)</td>\n",
       "      <td>1.12530</td>\n",
       "      <td>0.9330</td>\n",
       "      <td>0.102</td>\n",
       "      <td>0.086</td>\n",
       "    </tr>\n",
       "    <tr>\n",
       "      <th>3</th>\n",
       "      <td>J1906+0746</td>\n",
       "      <td>2.6134(3)</td>\n",
       "      <td>1.322(11)</td>\n",
       "      <td>1.291(11)</td>\n",
       "      <td>1.13720</td>\n",
       "      <td>0.9780</td>\n",
       "      <td>0.166</td>\n",
       "      <td>0.308</td>\n",
       "    </tr>\n",
       "    <tr>\n",
       "      <th>4</th>\n",
       "      <td>B1534+12</td>\n",
       "      <td>2.678463(4)</td>\n",
       "      <td>1.3330(2)</td>\n",
       "      <td>1.3455(2)</td>\n",
       "      <td>1.16587</td>\n",
       "      <td>0.9907</td>\n",
       "      <td>0.421</td>\n",
       "      <td>2.734</td>\n",
       "    </tr>\n",
       "  </tbody>\n",
       "</table>\n",
       "</div>"
      ],
      "text/plain": [
       "     Pulsar Name         MT(M)     mr(M )      ms(M)    Mc(M)       q  \\\n",
       "0    J1946+2052        2.50(4)     < 1.35     > 1.17  1.08000  0.8400   \n",
       "1    J1756-2251     2.56999(6)   1.341(7)   1.230(7)  1.11780  0.9200   \n",
       "2  J0737-3039A/B   2.58708(16)  1.3381(7)  1.2489(7)  1.12530  0.9330   \n",
       "3    J1906+0746      2.6134(3)  1.322(11)  1.291(11)  1.13720  0.9780   \n",
       "4       B1534+12   2.678463(4)  1.3330(2)  1.3455(2)  1.16587  0.9907   \n",
       "\n",
       "   Pb(day)  Tc(Gyr)  \n",
       "0    0.078    0.046  \n",
       "1    0.320    1.656  \n",
       "2    0.102    0.086  \n",
       "3    0.166    0.308  \n",
       "4    0.421    2.734  "
      ]
     },
     "execution_count": 9,
     "metadata": {},
     "output_type": "execute_result"
    }
   ],
   "source": [
    "data.head()"
   ]
  },
  {
   "cell_type": "code",
   "execution_count": 8,
   "id": "87657819",
   "metadata": {},
   "outputs": [
    {
     "name": "stdout",
     "output_type": "stream",
     "text": [
      "<class 'pandas.core.frame.DataFrame'>\n",
      "RangeIndex: 17 entries, 0 to 16\n",
      "Data columns (total 8 columns):\n",
      " #   Column        Non-Null Count  Dtype  \n",
      "---  ------        --------------  -----  \n",
      " 0   Pulsar Name   17 non-null     object \n",
      " 1   MT(M)         17 non-null     object \n",
      " 2   mr(M )        17 non-null     object \n",
      " 3   ms(M)         17 non-null     object \n",
      " 4   Mc(M)         17 non-null     float64\n",
      " 5   q             17 non-null     float64\n",
      " 6   Pb(day)       17 non-null     float64\n",
      " 7   Tc(Gyr)       17 non-null     float64\n",
      "dtypes: float64(4), object(4)\n",
      "memory usage: 1.2+ KB\n"
     ]
    }
   ],
   "source": [
    "data.info()"
   ]
  },
  {
   "cell_type": "code",
   "execution_count": null,
   "id": "832139ed",
   "metadata": {},
   "outputs": [],
   "source": []
  },
  {
   "cell_type": "markdown",
   "id": "a25ca753",
   "metadata": {},
   "source": [
    "## Histograms for Data from Mass Distribution Paper (Farrow et al.)"
   ]
  },
  {
   "cell_type": "code",
   "execution_count": 22,
   "id": "88f3a82f",
   "metadata": {},
   "outputs": [
    {
     "data": {
      "image/png": "[encoded data removed]",
      "text/plain": [
       "<Figure size 640x480 with 1 Axes>"
      ]
     },
     "metadata": {},
     "output_type": "display_data"
    }
   ],
   "source": [
    "data['Mc(M)'].plot(kind='hist', bins=12, title=\"Histogram of Chirp Mass\");"
   ]
  },
  {
   "cell_type": "code",
   "execution_count": 25,
   "id": "a55f9f5d",
   "metadata": {},
   "outputs": [
    {
     "data": {
      "text/plain": [
       "<AxesSubplot:title={'center':'Histogram of Mass Ratio'}, ylabel='Frequency'>"
      ]
     },
     "execution_count": 25,
     "metadata": {},
     "output_type": "execute_result"
    },
    {
     "data": {
      "image/png": "[encoded data removed]",
      "text/plain": [
       "<Figure size 640x480 with 1 Axes>"
      ]
     },
     "metadata": {},
     "output_type": "display_data"
    }
   ],
   "source": [
    "data['q'].plot(kind='hist', bins=14, title=\"Histogram of Mass Ratio\")"
   ]
  },
  {
   "cell_type": "markdown",
   "id": "5f0a85fa",
   "metadata": {},
   "source": [
    "# Histograms for New Data with GW190425"
   ]
  },
  {
   "cell_type": "code",
   "execution_count": 10,
   "id": "82324be1",
   "metadata": {
    "scrolled": false
   },
   "outputs": [
    {
     "name": "stdout",
     "output_type": "stream",
     "text": [
      "<class 'pandas.core.frame.DataFrame'>\n",
      "RangeIndex: 18 entries, 0 to 17\n",
      "Data columns (total 9 columns):\n",
      " #   Column        Non-Null Count  Dtype  \n",
      "---  ------        --------------  -----  \n",
      " 0   Pulsar Name   18 non-null     object \n",
      " 1   MT(M)         17 non-null     object \n",
      " 2   mr(M )        17 non-null     object \n",
      " 3   ms(M)         17 non-null     object \n",
      " 4   Mc(M)         18 non-null     float64\n",
      " 5   q             17 non-null     float64\n",
      " 6   Pb(day)       17 non-null     float64\n",
      " 7   Tc(Gyr)       17 non-null     float64\n",
      " 8   mcerr         18 non-null     float64\n",
      "dtypes: float64(5), object(4)\n",
      "memory usage: 1.4+ KB\n"
     ]
    }
   ],
   "source": [
    "data = pd.read_csv('Downloads/mass_dist.csv')\n",
    "data.info()"
   ]
  },
  {
   "cell_type": "markdown",
   "id": "4df24b3f",
   "metadata": {},
   "source": [
    "## Weighted Std"
   ]
  },
  {
   "cell_type": "code",
   "execution_count": 33,
   "id": "1d316d9a",
   "metadata": {},
   "outputs": [],
   "source": [
    "import scipy.stats as stats\n",
    "import math\n",
    "from scipy.stats import norm"
   ]
  },
  {
   "cell_type": "code",
   "execution_count": 36,
   "id": "2a363a37",
   "metadata": {},
   "outputs": [],
   "source": [
    "mchirp = data['Mc(M)'].to_numpy()\n",
    "m_chirp_err = data['mcerr'].to_numpy()"
   ]
  },
  {
   "cell_type": "code",
   "execution_count": 78,
   "id": "0cbef51a",
   "metadata": {
    "scrolled": true
   },
   "outputs": [
    {
     "name": "stdout",
     "output_type": "stream",
     "text": [
      "1.1748478470370065\n"
     ]
    }
   ],
   "source": [
    "std = np.sqrt(np.cov(mchirp, aweights=mc_weights))\n",
    "mc_weights = np.array([1/(i**2) for i in m_chirp_err])\n",
    "mc_av = np.average(mchirp, weights=mc_weights)\n",
    "#print(mc_weights)\n",
    "print(mc_av)"
   ]
  },
  {
   "cell_type": "code",
   "execution_count": 66,
   "id": "7878719a",
   "metadata": {},
   "outputs": [],
   "source": [
    "xarray = np.linspace(1, 1.5, num=300)"
   ]
  },
  {
   "cell_type": "code",
   "execution_count": 67,
   "id": "5110e016",
   "metadata": {},
   "outputs": [],
   "source": [
    "def gaussian(x, mean, sigma):\n",
    "    amplitude = (np.sqrt(2*np.pi*sigma**2))**(-1)\n",
    "    return amplitude * np.exp(-0.5 * ((x - mean) / sigma)**2)"
   ]
  },
  {
   "cell_type": "code",
   "execution_count": 70,
   "id": "57c823c9",
   "metadata": {},
   "outputs": [
    {
     "data": {
      "image/png": "[encoded data removed]",
      "text/plain": [
       "<Figure size 640x480 with 1 Axes>"
      ]
     },
     "metadata": {},
     "output_type": "display_data"
    }
   ],
   "source": [
    "plt.hist(mchirp, bins=18, density=True, label=\"Chirp mass data\")\n",
    "plt.title(\"Histogram of New Chirp Mass Data - Weighted Std.\")\n",
    "plt.xlabel(\"Chirp Mass\")\n",
    "#plt.plot(x_axis, norm.pdf(x_axis,0,2), label=\"Gaussian Fit\")\n",
    "plt.plot(xarray, gaussian(xarray, mc_av, std), label=\"Gaussian Fit\")\n",
    "plt.xlim(1, 1.7)\n",
    "plt.legend()\n",
    "plt.show()"
   ]
  },
  {
   "cell_type": "markdown",
   "id": "2371a03b",
   "metadata": {},
   "source": [
    "## Unweighted Std"
   ]
  },
  {
   "cell_type": "code",
   "execution_count": 81,
   "id": "0c71230b",
   "metadata": {},
   "outputs": [
    {
     "data": {
      "image/png": "[encoded data removed]",
      "text/plain": [
       "<Figure size 640x480 with 1 Axes>"
      ]
     },
     "metadata": {},
     "output_type": "display_data"
    }
   ],
   "source": [
    "std2 = np.std(mchirp)\n",
    "mchirp_av2 = np.average(mchirp, weights=mc_weights)\n",
    "plt.hist(mchirp, bins=18, density=True, label=\"Chirp mass data\")\n",
    "plt.title(\"Histogram of New Chirp Mass Data - Unweighted Std.\")\n",
    "plt.xlabel(\"Chirp Mass\")\n",
    "#plt.plot(x_axis, norm.pdf(x_axis,0,2), label=\"Gaussian Fit\")\n",
    "plt.plot(xarray, gaussian(xarray, mchirp_av2, std2), label=\"Gaussian Fit\")\n",
    "plt.xlim(1, 1.7)\n",
    "plt.legend()\n",
    "plt.show()"
   ]
  },
  {
   "cell_type": "code",
   "execution_count": 72,
   "id": "bf0da207",
   "metadata": {},
   "outputs": [
    {
     "name": "stdout",
     "output_type": "stream",
     "text": [
      "0.04551814118250729\n"
     ]
    }
   ],
   "source": [
    "print(std)"
   ]
  },
  {
   "cell_type": "code",
   "execution_count": 73,
   "id": "13614bd4",
   "metadata": {},
   "outputs": [
    {
     "name": "stdout",
     "output_type": "stream",
     "text": [
      "0.08227501200950126\n"
     ]
    }
   ],
   "source": [
    "print(std2)"
   ]
  },
  {
   "cell_type": "code",
   "execution_count": 82,
   "id": "60d1bc80",
   "metadata": {},
   "outputs": [
    {
     "name": "stdout",
     "output_type": "stream",
     "text": [
      "1.1748478470370065\n",
      "1.1748478470370065\n"
     ]
    }
   ],
   "source": [
    "print(mchirp_av2)\n",
    "print(mc_av)"
   ]
  },
  {
   "cell_type": "code",
   "execution_count": null,
   "id": "56d35813",
   "metadata": {},
   "outputs": [],
   "source": [
    "#big mass ratioa give redder ejecta \n"
   ]
  }
 ],
 "metadata": {
  "kernelspec": {
   "display_name": "Python 3 (ipykernel)",
   "language": "python",
   "name": "python3"
  },
  "language_info": {
   "codemirror_mode": {
    "name": "ipython",
    "version": 3
   },
   "file_extension": ".py",
   "mimetype": "text/x-python",
   "name": "python",
   "nbconvert_exporter": "python",
   "pygments_lexer": "ipython3",
   "version": "3.9.13"
  }
 },
 "nbformat": 4,
 "nbformat_minor": 5
}
