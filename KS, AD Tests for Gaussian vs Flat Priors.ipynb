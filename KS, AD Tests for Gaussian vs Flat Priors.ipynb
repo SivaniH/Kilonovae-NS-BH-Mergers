{
 "cells": [
  {
   "cell_type": "code",
   "execution_count": 34,
   "id": "037fdb2a",
   "metadata": {},
   "outputs": [],
   "source": [
    "import numpy as np\n",
    "import scipy\n",
    "from scipy import stats\n",
    "from scipy.stats import ks_2samp\n",
    "import json"
   ]
  },
  {
   "cell_type": "code",
   "execution_count": 16,
   "id": "b248b4ef",
   "metadata": {},
   "outputs": [],
   "source": [
    "from scipy.stats import anderson_ksamp"
   ]
  },
  {
   "cell_type": "code",
   "execution_count": 4,
   "id": "20d65f60",
   "metadata": {},
   "outputs": [],
   "source": [
    "file1 = '2411 jsons/js_bns3_2411_clean.json'\n",
    "with open(file1, mode=\"r\") as file:\n",
    "     data1 = json.load(file)\n",
    "    \n",
    "kn_gauss = data1[\"kilonovae\"]\n",
    "\n",
    "mchirp_gauss=[]\n",
    "for i in range(len(kn_gauss)):\n",
    "    mc_g = kn_gauss[i][\"Mchirp\"]\n",
    "    mchirp_gauss.append(mc_g)"
   ]
  },
  {
   "cell_type": "code",
   "execution_count": 5,
   "id": "31bccbc3",
   "metadata": {},
   "outputs": [],
   "source": [
    "file2 = 'JSON cleaning/js_bns1_test_1_clean.json'\n",
    "with open(file2, mode=\"r\") as file:\n",
    "     data2 = json.load(file)\n",
    "    \n",
    "kn_flat = data2[\"kilonovae\"]\n",
    "\n",
    "mchirp_flat=[]\n",
    "for i in range(len(kn_flat)):\n",
    "    mc_f = kn_flat[i][\"Mchirp\"]\n",
    "    mchirp_flat.append(mc_f)"
   ]
  },
  {
   "cell_type": "code",
   "execution_count": 32,
   "id": "5cf1959d",
   "metadata": {},
   "outputs": [],
   "source": [
    "#len(mchirp_gauss & kn_gauss)=1009\n",
    "#len(mchirp_flat & kn_flat)=1018"
   ]
  },
  {
   "cell_type": "code",
   "execution_count": 27,
   "id": "a55e2752",
   "metadata": {},
   "outputs": [
    {
     "data": {
      "text/plain": [
       "KstestResult(statistic=0.3566876500493593, pvalue=8.586666743896247e-58)"
      ]
     },
     "execution_count": 27,
     "metadata": {},
     "output_type": "execute_result"
    }
   ],
   "source": [
    "ks_2samp(mchirp_flat, mchirp_gauss)\n",
    "\n",
    "#very different\n",
    "#dont need this"
   ]
  },
  {
   "cell_type": "markdown",
   "id": "93e5a9af",
   "metadata": {},
   "source": [
    "# K-S Testing with Peak Times and Apparent Magnitudes"
   ]
  },
  {
   "cell_type": "markdown",
   "id": "05323588",
   "metadata": {},
   "source": [
    "## g-band Mchirp_Gauss"
   ]
  },
  {
   "cell_type": "code",
   "execution_count": 4,
   "id": "84a86a05",
   "metadata": {},
   "outputs": [
    {
     "ename": "NameError",
     "evalue": "name 'kilonovae' is not defined",
     "output_type": "error",
     "traceback": [
      "\u001b[1;31m---------------------------------------------------------------------------\u001b[0m",
      "\u001b[1;31mNameError\u001b[0m                                 Traceback (most recent call last)",
      "\u001b[1;32m~\\AppData\\Local\\Temp\\ipykernel_3964\\1044694437.py\u001b[0m in \u001b[0;36m<module>\u001b[1;34m\u001b[0m\n\u001b[0;32m      2\u001b[0m \u001b[0mpeak_app_mags\u001b[0m \u001b[1;33m=\u001b[0m \u001b[1;33m[\u001b[0m\u001b[1;33m]\u001b[0m\u001b[1;33m\u001b[0m\u001b[1;33m\u001b[0m\u001b[0m\n\u001b[0;32m      3\u001b[0m \u001b[0mpeak_times\u001b[0m \u001b[1;33m=\u001b[0m \u001b[1;33m[\u001b[0m\u001b[1;33m]\u001b[0m\u001b[1;33m\u001b[0m\u001b[1;33m\u001b[0m\u001b[0m\n\u001b[1;32m----> 4\u001b[1;33m \u001b[1;32mfor\u001b[0m \u001b[0mkn\u001b[0m \u001b[1;32min\u001b[0m \u001b[0mkilonovae\u001b[0m\u001b[1;33m:\u001b[0m\u001b[1;33m\u001b[0m\u001b[1;33m\u001b[0m\u001b[0m\n\u001b[0m\u001b[0;32m      5\u001b[0m     \u001b[0mapp_mags\u001b[0m \u001b[1;33m=\u001b[0m \u001b[1;33m[\u001b[0m\u001b[0mfloat\u001b[0m\u001b[1;33m(\u001b[0m\u001b[0mkn\u001b[0m\u001b[1;33m[\u001b[0m\u001b[1;34m\"data_points\"\u001b[0m\u001b[1;33m]\u001b[0m\u001b[1;33m[\u001b[0m\u001b[0mi\u001b[0m\u001b[1;33m]\u001b[0m\u001b[1;33m[\u001b[0m\u001b[1;34m\"magnitude\"\u001b[0m\u001b[1;33m]\u001b[0m\u001b[1;33m)\u001b[0m \u001b[1;32mfor\u001b[0m \u001b[0mi\u001b[0m \u001b[1;32min\u001b[0m \u001b[0mrange\u001b[0m\u001b[1;33m(\u001b[0m\u001b[0mlen\u001b[0m\u001b[1;33m(\u001b[0m\u001b[0mkn\u001b[0m\u001b[1;33m[\u001b[0m\u001b[1;34m\"data_points\"\u001b[0m\u001b[1;33m]\u001b[0m\u001b[1;33m)\u001b[0m\u001b[1;33m)\u001b[0m \u001b[1;32mif\u001b[0m \u001b[0mkn\u001b[0m\u001b[1;33m[\u001b[0m\u001b[1;34m\"data_points\"\u001b[0m\u001b[1;33m]\u001b[0m\u001b[1;33m[\u001b[0m\u001b[0mi\u001b[0m\u001b[1;33m]\u001b[0m\u001b[1;33m[\u001b[0m\u001b[1;34m\"band\"\u001b[0m\u001b[1;33m]\u001b[0m\u001b[1;33m==\u001b[0m\u001b[1;34m\"i\"\u001b[0m\u001b[1;33m]\u001b[0m\u001b[1;33m\u001b[0m\u001b[1;33m\u001b[0m\u001b[0m\n\u001b[0;32m      6\u001b[0m     \u001b[0mpeak_am\u001b[0m \u001b[1;33m=\u001b[0m \u001b[0mnp\u001b[0m\u001b[1;33m.\u001b[0m\u001b[0mmin\u001b[0m\u001b[1;33m(\u001b[0m\u001b[0mapp_mags\u001b[0m\u001b[1;33m)\u001b[0m\u001b[1;33m\u001b[0m\u001b[1;33m\u001b[0m\u001b[0m\n",
      "\u001b[1;31mNameError\u001b[0m: name 'kilonovae' is not defined"
     ]
    }
   ],
   "source": [
    "#reference code from before\n",
    "peak_app_mags = []\n",
    "peak_times = []\n",
    "for kn in kilonovae:\n",
    "    app_mags = [float(kn[\"data_points\"][i][\"magnitude\"]) for i in range(len(kn[\"data_points\"])) if kn[\"data_points\"][i][\"band\"]==\"i\"]\n",
    "    peak_am = np.min(app_mags)\n",
    "    peak_index = np.argmin(app_mags)\n",
    "    times = [float(kn[\"data_points\"][i][\"time\"]) for i in range(len(kn[\"data_points\"])) if kn[\"data_points\"][i][\"band\"]==\"i\"]\n",
    "    peak_time = times[peak_index]\n",
    "    peak_app_mags.append(peak_am)\n",
    "    peak_time *= 24\n",
    "    peak_times.append(peak_time)"
   ]
  },
  {
   "cell_type": "code",
   "execution_count": 6,
   "id": "e9c88424",
   "metadata": {},
   "outputs": [],
   "source": [
    "#making lists of peak apparent mags and peak times for the g band in the Gaussian distribution\n",
    "g_pam_g = []\n",
    "g_pt_g = []\n",
    "for kn in kn_gauss:\n",
    "    app_mags = [float(kn[\"data_points\"][i][\"magnitude\"]) for i in range(len(kn[\"data_points\"])) if kn[\"data_points\"][i][\"band\"]==\"g\"]\n",
    "    peak_am = np.min(app_mags)\n",
    "    peak_index = np.argmin(app_mags)\n",
    "    times = [float(kn[\"data_points\"][i][\"time\"]) for i in range(len(kn[\"data_points\"])) if kn[\"data_points\"][i][\"band\"]==\"g\"]\n",
    "    peak_time = times[peak_index]\n",
    "    g_pam_g.append(peak_am)\n",
    "    peak_time *= 24\n",
    "    g_pt_g.append(peak_time)\n",
    "    "
   ]
  },
  {
   "cell_type": "code",
   "execution_count": 35,
   "id": "e9063ccd",
   "metadata": {},
   "outputs": [
    {
     "name": "stdout",
     "output_type": "stream",
     "text": [
      "1009\n",
      "1009\n"
     ]
    }
   ],
   "source": [
    "print(len(g_pt_g))\n",
    "print(len(g_pam_g))"
   ]
  },
  {
   "cell_type": "markdown",
   "id": "2c90c852",
   "metadata": {},
   "source": [
    "## g-band Mchirp_Flat"
   ]
  },
  {
   "cell_type": "code",
   "execution_count": 7,
   "id": "d13402a6",
   "metadata": {},
   "outputs": [],
   "source": [
    "#making lists of peak apparent mags and peak times for the g band in the flat chirp mass distribution\n",
    "f_pam_g = []\n",
    "f_pt_g = []\n",
    "for kn in kn_flat:\n",
    "    app_mags = [float(kn[\"data_points\"][i][\"magnitude\"]) for i in range(len(kn[\"data_points\"])) if kn[\"data_points\"][i][\"band\"]==\"g\"]\n",
    "    peak_am = np.min(app_mags)\n",
    "    peak_index = np.argmin(app_mags)\n",
    "    times = [float(kn[\"data_points\"][i][\"time\"]) for i in range(len(kn[\"data_points\"])) if kn[\"data_points\"][i][\"band\"]==\"g\"]\n",
    "    peak_time = times[peak_index]\n",
    "    f_pam_g.append(peak_am)\n",
    "    peak_time *= 24\n",
    "    f_pt_g.append(peak_time)"
   ]
  },
  {
   "cell_type": "code",
   "execution_count": 37,
   "id": "f711f576",
   "metadata": {},
   "outputs": [
    {
     "name": "stdout",
     "output_type": "stream",
     "text": [
      "1018\n",
      "1018\n"
     ]
    }
   ],
   "source": [
    "print(len(f_pt_g))\n",
    "print(len(f_pam_g))"
   ]
  },
  {
   "cell_type": "code",
   "execution_count": 1,
   "id": "811ca087",
   "metadata": {},
   "outputs": [],
   "source": [
    "#print(g_pam_g)"
   ]
  },
  {
   "cell_type": "code",
   "execution_count": 2,
   "id": "1909a001",
   "metadata": {},
   "outputs": [],
   "source": [
    "#print(f_pam_g)"
   ]
  },
  {
   "cell_type": "code",
   "execution_count": null,
   "id": "751d374b",
   "metadata": {},
   "outputs": [],
   "source": [
    "# plot hists on top of each other"
   ]
  },
  {
   "cell_type": "code",
   "execution_count": 9,
   "id": "f94c650e",
   "metadata": {},
   "outputs": [
    {
     "data": {
      "text/plain": [
       "21.156851851842525"
      ]
     },
     "execution_count": 9,
     "metadata": {},
     "output_type": "execute_result"
    }
   ],
   "source": [
    "np.mean(g_pam_g)"
   ]
  },
  {
   "cell_type": "code",
   "execution_count": 10,
   "id": "d02939bf",
   "metadata": {},
   "outputs": [
    {
     "data": {
      "text/plain": [
       "21.76123471697675"
      ]
     },
     "execution_count": 10,
     "metadata": {},
     "output_type": "execute_result"
    }
   ],
   "source": [
    "np.mean(f_pam_g)"
   ]
  },
  {
   "cell_type": "code",
   "execution_count": 11,
   "id": "892445ab",
   "metadata": {},
   "outputs": [
    {
     "data": {
      "text/plain": [
       "21.295528192485254"
      ]
     },
     "execution_count": 11,
     "metadata": {},
     "output_type": "execute_result"
    }
   ],
   "source": [
    "np.median(g_pam_g)"
   ]
  },
  {
   "cell_type": "code",
   "execution_count": 12,
   "id": "228b7b1a",
   "metadata": {},
   "outputs": [
    {
     "data": {
      "text/plain": [
       "21.871842042889583"
      ]
     },
     "execution_count": 12,
     "metadata": {},
     "output_type": "execute_result"
    }
   ],
   "source": [
    "np.median(f_pam_g)"
   ]
  },
  {
   "cell_type": "code",
   "execution_count": null,
   "id": "82cb14fb",
   "metadata": {},
   "outputs": [],
   "source": [
    "# anderson - darling test on scipy "
   ]
  },
  {
   "cell_type": "markdown",
   "id": "8e8ea901",
   "metadata": {},
   "source": [
    "### K-S Test"
   ]
  },
  {
   "cell_type": "code",
   "execution_count": 39,
   "id": "1f4bf5db",
   "metadata": {},
   "outputs": [
    {
     "data": {
      "text/plain": [
       "KstestResult(statistic=0.43485253543258023, pvalue=1.075468864684965e-86)"
      ]
     },
     "execution_count": 39,
     "metadata": {},
     "output_type": "execute_result"
    }
   ],
   "source": [
    "#doing the K-S test for peak mags in g band \n",
    "ks_2samp(g_pam_g, f_pam_g)\n",
    "#p-value is << 0.05"
   ]
  },
  {
   "cell_type": "code",
   "execution_count": 40,
   "id": "666a9c7f",
   "metadata": {},
   "outputs": [
    {
     "data": {
      "text/plain": [
       "KstestResult(statistic=0.546915676397686, pvalue=1.1996174482124155e-139)"
      ]
     },
     "execution_count": 40,
     "metadata": {},
     "output_type": "execute_result"
    }
   ],
   "source": [
    "#doing the K-S test for peak times in g band \n",
    "ks_2samp(g_pt_g, f_pt_g)\n",
    "#p-value is << 0.05"
   ]
  },
  {
   "cell_type": "markdown",
   "id": "34e2ffe9",
   "metadata": {},
   "source": [
    "### i-band Mchirp_Gauss"
   ]
  },
  {
   "cell_type": "code",
   "execution_count": 8,
   "id": "3bedd382",
   "metadata": {},
   "outputs": [],
   "source": [
    "#making lists of peak apparent mags and peak times for the i band in the Gaussian distribution\n",
    "g_pam_i = []\n",
    "g_pt_i = []\n",
    "for kn in kn_gauss:\n",
    "    app_mags = [float(kn[\"data_points\"][i][\"magnitude\"]) for i in range(len(kn[\"data_points\"])) if kn[\"data_points\"][i][\"band\"]==\"i\"]\n",
    "    peak_am = np.min(app_mags)\n",
    "    peak_index = np.argmin(app_mags)\n",
    "    times = [float(kn[\"data_points\"][i][\"time\"]) for i in range(len(kn[\"data_points\"])) if kn[\"data_points\"][i][\"band\"]==\"i\"]\n",
    "    peak_time = times[peak_index]\n",
    "    g_pam_i.append(peak_am)\n",
    "    peak_time *= 24\n",
    "    g_pt_i.append(peak_time)"
   ]
  },
  {
   "cell_type": "markdown",
   "id": "7d98abd6",
   "metadata": {},
   "source": [
    "### i-band Mchirp_Flat"
   ]
  },
  {
   "cell_type": "code",
   "execution_count": 9,
   "id": "ce1d467f",
   "metadata": {},
   "outputs": [],
   "source": [
    "#making lists of peak apparent mags and peak times for the i band in the Flat distribution\n",
    "f_pam_i = []\n",
    "f_pt_i = []\n",
    "for kn in kn_flat:\n",
    "    app_mags = [float(kn[\"data_points\"][i][\"magnitude\"]) for i in range(len(kn[\"data_points\"])) if kn[\"data_points\"][i][\"band\"]==\"i\"]\n",
    "    peak_am = np.min(app_mags)\n",
    "    peak_index = np.argmin(app_mags)\n",
    "    times = [float(kn[\"data_points\"][i][\"time\"]) for i in range(len(kn[\"data_points\"])) if kn[\"data_points\"][i][\"band\"]==\"i\"]\n",
    "    peak_time = times[peak_index]\n",
    "    f_pam_i.append(peak_am)\n",
    "    peak_time *= 24\n",
    "    f_pt_i.append(peak_time)"
   ]
  },
  {
   "cell_type": "markdown",
   "id": "781af54a",
   "metadata": {},
   "source": [
    "### Test"
   ]
  },
  {
   "cell_type": "code",
   "execution_count": 43,
   "id": "d40b8ab2",
   "metadata": {},
   "outputs": [
    {
     "data": {
      "text/plain": [
       "KstestResult(statistic=0.4011820920166439, pvalue=1.8899802535156386e-73)"
      ]
     },
     "execution_count": 43,
     "metadata": {},
     "output_type": "execute_result"
    }
   ],
   "source": [
    "#doing the K-S test for peak mags in i band \n",
    "ks_2samp(g_pam_i, f_pam_i)\n",
    "#p-value is << 0.05"
   ]
  },
  {
   "cell_type": "code",
   "execution_count": 44,
   "id": "0835d56e",
   "metadata": {},
   "outputs": [
    {
     "data": {
      "text/plain": [
       "KstestResult(statistic=0.530663128114163, pvalue=3.2117417666920396e-131)"
      ]
     },
     "execution_count": 44,
     "metadata": {},
     "output_type": "execute_result"
    }
   ],
   "source": [
    "#doing the K-S test for peak times in i band \n",
    "ks_2samp(g_pt_i, f_pt_i)\n",
    "#p-value is << 0.05"
   ]
  },
  {
   "cell_type": "markdown",
   "id": "0999cfc8",
   "metadata": {},
   "source": [
    "## r-band"
   ]
  },
  {
   "cell_type": "code",
   "execution_count": 10,
   "id": "c9c9b60e",
   "metadata": {},
   "outputs": [],
   "source": [
    "#making lists of peak apparent mags and peak times for the r band in the Gaussian distribution\n",
    "g_pam_r = []\n",
    "g_pt_r = []\n",
    "for kn in kn_gauss:\n",
    "    app_mags = [float(kn[\"data_points\"][i][\"magnitude\"]) for i in range(len(kn[\"data_points\"])) if kn[\"data_points\"][i][\"band\"]==\"r\"]\n",
    "    peak_am = np.min(app_mags)\n",
    "    peak_index = np.argmin(app_mags)\n",
    "    times = [float(kn[\"data_points\"][i][\"time\"]) for i in range(len(kn[\"data_points\"])) if kn[\"data_points\"][i][\"band\"]==\"r\"]\n",
    "    peak_time = times[peak_index]\n",
    "    g_pam_r.append(peak_am)\n",
    "    peak_time *= 24\n",
    "    g_pt_r.append(peak_time)\n",
    "    \n",
    "    \n",
    "#making lists of peak apparent mags and peak times for the r band in the Flat distribution\n",
    "f_pam_r = []\n",
    "f_pt_r = []\n",
    "for kn in kn_flat:\n",
    "    app_mags = [float(kn[\"data_points\"][i][\"magnitude\"]) for i in range(len(kn[\"data_points\"])) if kn[\"data_points\"][i][\"band\"]==\"r\"]\n",
    "    peak_am = np.min(app_mags)\n",
    "    peak_index = np.argmin(app_mags)\n",
    "    times = [float(kn[\"data_points\"][i][\"time\"]) for i in range(len(kn[\"data_points\"])) if kn[\"data_points\"][i][\"band\"]==\"r\"]\n",
    "    peak_time = times[peak_index]\n",
    "    f_pam_r.append(peak_am)\n",
    "    peak_time *= 24\n",
    "    f_pt_r.append(peak_time)\n"
   ]
  },
  {
   "cell_type": "code",
   "execution_count": 7,
   "id": "58f8d72a",
   "metadata": {},
   "outputs": [
    {
     "data": {
      "text/plain": [
       "KstestResult(statistic=0.4108563206193376, pvalue=4.530872392303905e-77)"
      ]
     },
     "execution_count": 7,
     "metadata": {},
     "output_type": "execute_result"
    }
   ],
   "source": [
    "#doing the K-S test for peak mags in r band \n",
    "ks_2samp(g_pam_r, f_pam_r)\n",
    "#p-value is << 0.05\n"
   ]
  },
  {
   "cell_type": "code",
   "execution_count": 8,
   "id": "fe1d43fa",
   "metadata": {},
   "outputs": [
    {
     "data": {
      "text/plain": [
       "KstestResult(statistic=0.5318294485193182, pvalue=9.517036956967738e-132)"
      ]
     },
     "execution_count": 8,
     "metadata": {},
     "output_type": "execute_result"
    }
   ],
   "source": [
    "#doing the K-S test for peak times in r band \n",
    "ks_2samp(g_pt_r, f_pt_r)\n",
    "#p-value is << 0.05"
   ]
  },
  {
   "cell_type": "markdown",
   "id": "1acc02bf",
   "metadata": {},
   "source": [
    "## u band"
   ]
  },
  {
   "cell_type": "code",
   "execution_count": 11,
   "id": "8c03dc41",
   "metadata": {},
   "outputs": [],
   "source": [
    "#making lists of peak apparent mags and peak times for the u band in the Gaussian distribution\n",
    "g_pam_u = []\n",
    "g_pt_u = []\n",
    "for kn in kn_gauss:\n",
    "    app_mags = [float(kn[\"data_points\"][i][\"magnitude\"]) for i in range(len(kn[\"data_points\"])) if kn[\"data_points\"][i][\"band\"]==\"u\"]\n",
    "    peak_am = np.min(app_mags)\n",
    "    peak_index = np.argmin(app_mags)\n",
    "    times = [float(kn[\"data_points\"][i][\"time\"]) for i in range(len(kn[\"data_points\"])) if kn[\"data_points\"][i][\"band\"]==\"u\"]\n",
    "    peak_time = times[peak_index]\n",
    "    g_pam_u.append(peak_am)\n",
    "    peak_time *= 24\n",
    "    g_pt_u.append(peak_time)\n",
    "    \n",
    "    \n",
    "#making lists of peak apparent mags and peak times for the u band in the Flat distribution\n",
    "f_pam_u = []\n",
    "f_pt_u = []\n",
    "for kn in kn_flat:\n",
    "    app_mags = [float(kn[\"data_points\"][i][\"magnitude\"]) for i in range(len(kn[\"data_points\"])) if kn[\"data_points\"][i][\"band\"]==\"u\"]\n",
    "    peak_am = np.min(app_mags)\n",
    "    peak_index = np.argmin(app_mags)\n",
    "    times = [float(kn[\"data_points\"][i][\"time\"]) for i in range(len(kn[\"data_points\"])) if kn[\"data_points\"][i][\"band\"]==\"u\"]\n",
    "    peak_time = times[peak_index]\n",
    "    f_pam_u.append(peak_am)\n",
    "    peak_time *= 24\n",
    "    f_pt_u.append(peak_time)\n"
   ]
  },
  {
   "cell_type": "code",
   "execution_count": 14,
   "id": "c4f5300b",
   "metadata": {},
   "outputs": [
    {
     "data": {
      "text/plain": [
       "KstestResult(statistic=0.4733732361594374, pvalue=2.4427568501423076e-103)"
      ]
     },
     "execution_count": 14,
     "metadata": {},
     "output_type": "execute_result"
    }
   ],
   "source": [
    "#doing the K-S test for peak mags in u band \n",
    "ks_2samp(g_pam_u, f_pam_u)\n",
    "#p-value is << 0.05"
   ]
  },
  {
   "cell_type": "code",
   "execution_count": 15,
   "id": "89f264ab",
   "metadata": {},
   "outputs": [
    {
     "data": {
      "text/plain": [
       "KstestResult(statistic=0.6111431302949292, pvalue=4.9679154590007445e-177)"
      ]
     },
     "execution_count": 15,
     "metadata": {},
     "output_type": "execute_result"
    }
   ],
   "source": [
    "#doing the K-S test for peak times in u band \n",
    "ks_2samp(g_pt_u, f_pt_u)\n",
    "#p-value is << 0.05"
   ]
  },
  {
   "cell_type": "markdown",
   "id": "dc256f62",
   "metadata": {},
   "source": [
    "# y band"
   ]
  },
  {
   "cell_type": "code",
   "execution_count": 12,
   "id": "a7f7717e",
   "metadata": {},
   "outputs": [],
   "source": [
    "#making lists of peak apparent mags and peak times for the y band in the Gaussian distribution\n",
    "g_pam_y = []\n",
    "g_pt_y = []\n",
    "for kn in kn_gauss:\n",
    "    app_mags = [float(kn[\"data_points\"][i][\"magnitude\"]) for i in range(len(kn[\"data_points\"])) if kn[\"data_points\"][i][\"band\"]==\"y\"]\n",
    "    peak_am = np.min(app_mags)\n",
    "    peak_index = np.argmin(app_mags)\n",
    "    times = [float(kn[\"data_points\"][i][\"time\"]) for i in range(len(kn[\"data_points\"])) if kn[\"data_points\"][i][\"band\"]==\"y\"]\n",
    "    peak_time = times[peak_index]\n",
    "    g_pam_y.append(peak_am)\n",
    "    peak_time *= 24\n",
    "    g_pt_y.append(peak_time)\n",
    "    \n",
    "    \n",
    "#making lists of peak apparent mags and peak times for the y band in the Flat distribution\n",
    "f_pam_y = []\n",
    "f_pt_y = []\n",
    "for kn in kn_flat:\n",
    "    app_mags = [float(kn[\"data_points\"][i][\"magnitude\"]) for i in range(len(kn[\"data_points\"])) if kn[\"data_points\"][i][\"band\"]==\"y\"]\n",
    "    peak_am = np.min(app_mags)\n",
    "    peak_index = np.argmin(app_mags)\n",
    "    times = [float(kn[\"data_points\"][i][\"time\"]) for i in range(len(kn[\"data_points\"])) if kn[\"data_points\"][i][\"band\"]==\"y\"]\n",
    "    peak_time = times[peak_index]\n",
    "    f_pam_y.append(peak_am)\n",
    "    peak_time *= 24\n",
    "    f_pt_y.append(peak_time)\n"
   ]
  },
  {
   "cell_type": "code",
   "execution_count": 17,
   "id": "5b5217ed",
   "metadata": {},
   "outputs": [
    {
     "data": {
      "text/plain": [
       "KstestResult(statistic=0.38501716379694734, pvalue=1.7469759781732326e-67)"
      ]
     },
     "execution_count": 17,
     "metadata": {},
     "output_type": "execute_result"
    }
   ],
   "source": [
    "#doing the K-S test for peak mags in y band \n",
    "ks_2samp(g_pam_y, f_pam_y)\n",
    "#p-value is << 0.05"
   ]
  },
  {
   "cell_type": "code",
   "execution_count": 18,
   "id": "9294da26",
   "metadata": {},
   "outputs": [
    {
     "data": {
      "text/plain": [
       "KstestResult(statistic=0.5395390405797722, pvalue=6.809184182913038e-136)"
      ]
     },
     "execution_count": 18,
     "metadata": {},
     "output_type": "execute_result"
    }
   ],
   "source": [
    "#doing the K-S test for peak times in y band \n",
    "ks_2samp(g_pt_y, f_pt_y)\n",
    "#p-value is << 0.05"
   ]
  },
  {
   "cell_type": "markdown",
   "id": "dd9a1526",
   "metadata": {},
   "source": [
    "# z band"
   ]
  },
  {
   "cell_type": "code",
   "execution_count": 13,
   "id": "fd741bf4",
   "metadata": {},
   "outputs": [],
   "source": [
    "#making lists of peak apparent mags and peak times for the z band in the Gaussian distribution\n",
    "g_pam_z = []\n",
    "g_pt_z = []\n",
    "for kn in kn_gauss:\n",
    "    app_mags = [float(kn[\"data_points\"][i][\"magnitude\"]) for i in range(len(kn[\"data_points\"])) if kn[\"data_points\"][i][\"band\"]==\"z\"]\n",
    "    peak_am = np.min(app_mags)\n",
    "    peak_index = np.argmin(app_mags)\n",
    "    times = [float(kn[\"data_points\"][i][\"time\"]) for i in range(len(kn[\"data_points\"])) if kn[\"data_points\"][i][\"band\"]==\"z\"]\n",
    "    peak_time = times[peak_index]\n",
    "    g_pam_z.append(peak_am)\n",
    "    peak_time *= 24\n",
    "    g_pt_z.append(peak_time)\n",
    "    \n",
    "    \n",
    "#making lists of peak apparent mags and peak times for the z band in the Flat distribution\n",
    "f_pam_z = []\n",
    "f_pt_z = []\n",
    "for kn in kn_flat:\n",
    "    app_mags = [float(kn[\"data_points\"][i][\"magnitude\"]) for i in range(len(kn[\"data_points\"])) if kn[\"data_points\"][i][\"band\"]==\"z\"]\n",
    "    peak_am = np.min(app_mags)\n",
    "    peak_index = np.argmin(app_mags)\n",
    "    times = [float(kn[\"data_points\"][i][\"time\"]) for i in range(len(kn[\"data_points\"])) if kn[\"data_points\"][i][\"band\"]==\"z\"]\n",
    "    peak_time = times[peak_index]\n",
    "    f_pam_z.append(peak_am)\n",
    "    peak_time *= 24\n",
    "    f_pt_z.append(peak_time)\n"
   ]
  },
  {
   "cell_type": "code",
   "execution_count": 20,
   "id": "694c4565",
   "metadata": {},
   "outputs": [
    {
     "data": {
      "text/plain": [
       "KstestResult(statistic=0.40166400236768884, pvalue=1.342331160254275e-73)"
      ]
     },
     "execution_count": 20,
     "metadata": {},
     "output_type": "execute_result"
    }
   ],
   "source": [
    "#doing the K-S test for peak mags in z band \n",
    "ks_2samp(g_pam_z, f_pam_z)\n",
    "#p-value is << 0.05"
   ]
  },
  {
   "cell_type": "code",
   "execution_count": 21,
   "id": "4b32aefb",
   "metadata": {},
   "outputs": [
    {
     "data": {
      "text/plain": [
       "KstestResult(statistic=0.5447495137086458, pvalue=1.5096556289849843e-138)"
      ]
     },
     "execution_count": 21,
     "metadata": {},
     "output_type": "execute_result"
    }
   ],
   "source": [
    "#doing the K-S test for peak times in z band \n",
    "ks_2samp(g_pt_z, f_pt_z)\n",
    "#p-value is << 0.05"
   ]
  },
  {
   "cell_type": "code",
   "execution_count": null,
   "id": "b7938211",
   "metadata": {},
   "outputs": [],
   "source": [
    "#plot the cumulative distributions for each prior on top of each other "
   ]
  },
  {
   "cell_type": "markdown",
   "id": "8d84d55d",
   "metadata": {},
   "source": [
    "# Anderson-Darling Test"
   ]
  },
  {
   "cell_type": "markdown",
   "id": "a59fde89",
   "metadata": {},
   "source": [
    "## App. Magnitudes"
   ]
  },
  {
   "cell_type": "code",
   "execution_count": 28,
   "id": "144bb99b",
   "metadata": {},
   "outputs": [
    {
     "name": "stderr",
     "output_type": "stream",
     "text": [
      "C:\\Users\\sivan\\AppData\\Local\\Temp\\ipykernel_12676\\1658317772.py:1: UserWarning: p-value floored: true value smaller than 0.001\n",
      "  stats.anderson_ksamp([g_pam_g, f_pam_g])\n"
     ]
    },
    {
     "data": {
      "text/plain": [
       "Anderson_ksampResult(statistic=256.81282181435876, critical_values=array([0.325, 1.226, 1.961, 2.718, 3.752, 4.592, 6.546]), significance_level=0.001)"
      ]
     },
     "execution_count": 28,
     "metadata": {},
     "output_type": "execute_result"
    }
   ],
   "source": [
    "anderson_ksamp([g_pam_g, f_pam_g])\n",
    "#print(AD_g)"
   ]
  },
  {
   "cell_type": "code",
   "execution_count": 29,
   "id": "4cc6ac86",
   "metadata": {},
   "outputs": [
    {
     "name": "stderr",
     "output_type": "stream",
     "text": [
      "C:\\Users\\sivan\\AppData\\Local\\Temp\\ipykernel_12676\\2067425282.py:1: UserWarning: p-value floored: true value smaller than 0.001\n",
      "  stats.anderson_ksamp([g_pam_g, f_pam_g]).pvalue\n"
     ]
    },
    {
     "ename": "AttributeError",
     "evalue": "'Anderson_ksampResult' object has no attribute 'pvalue'",
     "output_type": "error",
     "traceback": [
      "\u001b[1;31m---------------------------------------------------------------------------\u001b[0m",
      "\u001b[1;31mAttributeError\u001b[0m                            Traceback (most recent call last)",
      "\u001b[1;32m~\\AppData\\Local\\Temp\\ipykernel_12676\\2067425282.py\u001b[0m in \u001b[0;36m<module>\u001b[1;34m\u001b[0m\n\u001b[1;32m----> 1\u001b[1;33m \u001b[0mstats\u001b[0m\u001b[1;33m.\u001b[0m\u001b[0manderson_ksamp\u001b[0m\u001b[1;33m(\u001b[0m\u001b[1;33m[\u001b[0m\u001b[0mg_pam_g\u001b[0m\u001b[1;33m,\u001b[0m \u001b[0mf_pam_g\u001b[0m\u001b[1;33m]\u001b[0m\u001b[1;33m)\u001b[0m\u001b[1;33m.\u001b[0m\u001b[0mpvalue\u001b[0m\u001b[1;33m\u001b[0m\u001b[1;33m\u001b[0m\u001b[0m\n\u001b[0m",
      "\u001b[1;31mAttributeError\u001b[0m: 'Anderson_ksampResult' object has no attribute 'pvalue'"
     ]
    }
   ],
   "source": [
    "stats.anderson_ksamp([g_pam_g, f_pam_g]).pvalue"
   ]
  },
  {
   "cell_type": "code",
   "execution_count": 35,
   "id": "7b38c68c",
   "metadata": {},
   "outputs": [
    {
     "data": {
      "text/plain": [
       "'1.9.3'"
      ]
     },
     "execution_count": 35,
     "metadata": {},
     "output_type": "execute_result"
    }
   ],
   "source": [
    "scipy.__version__"
   ]
  },
  {
   "cell_type": "code",
   "execution_count": 36,
   "id": "c6afe965",
   "metadata": {},
   "outputs": [
    {
     "name": "stderr",
     "output_type": "stream",
     "text": [
      "C:\\Users\\sivan\\AppData\\Local\\Temp\\ipykernel_12676\\4063146121.py:1: UserWarning: p-value floored: true value smaller than 0.001\n",
      "  anderson_ksamp([g_pam_i, f_pam_i])\n"
     ]
    },
    {
     "data": {
      "text/plain": [
       "Anderson_ksampResult(statistic=218.53138430641755, critical_values=array([0.325, 1.226, 1.961, 2.718, 3.752, 4.592, 6.546]), significance_level=0.001)"
      ]
     },
     "execution_count": 36,
     "metadata": {},
     "output_type": "execute_result"
    }
   ],
   "source": [
    "anderson_ksamp([g_pam_i, f_pam_i])"
   ]
  },
  {
   "cell_type": "code",
   "execution_count": 37,
   "id": "6ccc0d01",
   "metadata": {},
   "outputs": [
    {
     "name": "stderr",
     "output_type": "stream",
     "text": [
      "C:\\Users\\sivan\\AppData\\Local\\Temp\\ipykernel_12676\\2800304019.py:1: UserWarning: p-value floored: true value smaller than 0.001\n",
      "  anderson_ksamp([g_pam_r, f_pam_r])\n"
     ]
    },
    {
     "data": {
      "text/plain": [
       "Anderson_ksampResult(statistic=231.1325279077124, critical_values=array([0.325, 1.226, 1.961, 2.718, 3.752, 4.592, 6.546]), significance_level=0.001)"
      ]
     },
     "execution_count": 37,
     "metadata": {},
     "output_type": "execute_result"
    }
   ],
   "source": [
    "anderson_ksamp([g_pam_r, f_pam_r])"
   ]
  },
  {
   "cell_type": "code",
   "execution_count": 39,
   "id": "15d20c45",
   "metadata": {},
   "outputs": [
    {
     "name": "stderr",
     "output_type": "stream",
     "text": [
      "C:\\Users\\sivan\\AppData\\Local\\Temp\\ipykernel_12676\\2262196428.py:1: UserWarning: p-value floored: true value smaller than 0.001\n",
      "  anderson_ksamp([g_pam_u, f_pam_u])\n"
     ]
    },
    {
     "data": {
      "text/plain": [
       "Anderson_ksampResult(statistic=295.11572069858255, critical_values=array([0.325, 1.226, 1.961, 2.718, 3.752, 4.592, 6.546]), significance_level=0.001)"
      ]
     },
     "execution_count": 39,
     "metadata": {},
     "output_type": "execute_result"
    }
   ],
   "source": [
    "anderson_ksamp([g_pam_u, f_pam_u])"
   ]
  },
  {
   "cell_type": "code",
   "execution_count": 40,
   "id": "875b81c9",
   "metadata": {},
   "outputs": [
    {
     "name": "stderr",
     "output_type": "stream",
     "text": [
      "C:\\Users\\sivan\\AppData\\Local\\Temp\\ipykernel_12676\\3290961830.py:1: UserWarning: p-value floored: true value smaller than 0.001\n",
      "  anderson_ksamp([g_pam_y, f_pam_y])\n"
     ]
    },
    {
     "data": {
      "text/plain": [
       "Anderson_ksampResult(statistic=200.59731439591462, critical_values=array([0.325, 1.226, 1.961, 2.718, 3.752, 4.592, 6.546]), significance_level=0.001)"
      ]
     },
     "execution_count": 40,
     "metadata": {},
     "output_type": "execute_result"
    }
   ],
   "source": [
    "anderson_ksamp([g_pam_y, f_pam_y])"
   ]
  },
  {
   "cell_type": "code",
   "execution_count": 41,
   "id": "5ae9e587",
   "metadata": {},
   "outputs": [
    {
     "name": "stderr",
     "output_type": "stream",
     "text": [
      "C:\\Users\\sivan\\AppData\\Local\\Temp\\ipykernel_12676\\3944743769.py:1: UserWarning: p-value floored: true value smaller than 0.001\n",
      "  anderson_ksamp([g_pam_z, f_pam_z])\n"
     ]
    },
    {
     "data": {
      "text/plain": [
       "Anderson_ksampResult(statistic=209.50263139636718, critical_values=array([0.325, 1.226, 1.961, 2.718, 3.752, 4.592, 6.546]), significance_level=0.001)"
      ]
     },
     "execution_count": 41,
     "metadata": {},
     "output_type": "execute_result"
    }
   ],
   "source": [
    "anderson_ksamp([g_pam_z, f_pam_z])"
   ]
  },
  {
   "cell_type": "markdown",
   "id": "2fe6e5b6",
   "metadata": {},
   "source": [
    "## Times"
   ]
  },
  {
   "cell_type": "code",
   "execution_count": 42,
   "id": "138f45d6",
   "metadata": {},
   "outputs": [
    {
     "name": "stderr",
     "output_type": "stream",
     "text": [
      "C:\\Users\\sivan\\AppData\\Local\\Temp\\ipykernel_12676\\3580421625.py:1: UserWarning: p-value floored: true value smaller than 0.001\n",
      "  anderson_ksamp([g_pt_g, f_pt_g])\n"
     ]
    },
    {
     "data": {
      "text/plain": [
       "Anderson_ksampResult(statistic=410.8693895529612, critical_values=array([0.325, 1.226, 1.961, 2.718, 3.752, 4.592, 6.546]), significance_level=0.001)"
      ]
     },
     "execution_count": 42,
     "metadata": {},
     "output_type": "execute_result"
    }
   ],
   "source": [
    "anderson_ksamp([g_pt_g, f_pt_g])"
   ]
  },
  {
   "cell_type": "code",
   "execution_count": 48,
   "id": "72ab6f06",
   "metadata": {},
   "outputs": [
    {
     "name": "stderr",
     "output_type": "stream",
     "text": [
      "C:\\Users\\sivan\\AppData\\Local\\Temp\\ipykernel_12676\\989396782.py:1: UserWarning: p-value floored: true value smaller than 0.001\n",
      "  anderson_ksamp([g_pt_i, f_pt_i])\n"
     ]
    },
    {
     "data": {
      "text/plain": [
       "Anderson_ksampResult(statistic=405.83140299697925, critical_values=array([0.325, 1.226, 1.961, 2.718, 3.752, 4.592, 6.546]), significance_level=0.001)"
      ]
     },
     "execution_count": 48,
     "metadata": {},
     "output_type": "execute_result"
    }
   ],
   "source": [
    "anderson_ksamp([g_pt_i, f_pt_i])"
   ]
  },
  {
   "cell_type": "code",
   "execution_count": 49,
   "id": "2e344ba8",
   "metadata": {},
   "outputs": [
    {
     "name": "stderr",
     "output_type": "stream",
     "text": [
      "C:\\Users\\sivan\\AppData\\Local\\Temp\\ipykernel_12676\\3333422631.py:1: UserWarning: p-value floored: true value smaller than 0.001\n",
      "  anderson_ksamp([g_pt_r, f_pt_r])\n"
     ]
    },
    {
     "data": {
      "text/plain": [
       "Anderson_ksampResult(statistic=404.32711252060426, critical_values=array([0.325, 1.226, 1.961, 2.718, 3.752, 4.592, 6.546]), significance_level=0.001)"
      ]
     },
     "execution_count": 49,
     "metadata": {},
     "output_type": "execute_result"
    }
   ],
   "source": [
    "anderson_ksamp([g_pt_r, f_pt_r])"
   ]
  },
  {
   "cell_type": "code",
   "execution_count": 50,
   "id": "4c54d825",
   "metadata": {},
   "outputs": [
    {
     "name": "stderr",
     "output_type": "stream",
     "text": [
      "C:\\Users\\sivan\\AppData\\Local\\Temp\\ipykernel_12676\\1617753257.py:1: UserWarning: p-value floored: true value smaller than 0.001\n",
      "  anderson_ksamp([g_pt_u, f_pt_u])\n"
     ]
    },
    {
     "data": {
      "text/plain": [
       "Anderson_ksampResult(statistic=520.6295889425887, critical_values=array([0.325, 1.226, 1.961, 2.718, 3.752, 4.592, 6.546]), significance_level=0.001)"
      ]
     },
     "execution_count": 50,
     "metadata": {},
     "output_type": "execute_result"
    }
   ],
   "source": [
    "anderson_ksamp([g_pt_u, f_pt_u])"
   ]
  },
  {
   "cell_type": "code",
   "execution_count": 51,
   "id": "751dc560",
   "metadata": {},
   "outputs": [
    {
     "name": "stderr",
     "output_type": "stream",
     "text": [
      "C:\\Users\\sivan\\AppData\\Local\\Temp\\ipykernel_12676\\3693434370.py:1: UserWarning: p-value floored: true value smaller than 0.001\n",
      "  anderson_ksamp([g_pt_y, f_pt_y])\n"
     ]
    },
    {
     "data": {
      "text/plain": [
       "Anderson_ksampResult(statistic=390.56840438960023, critical_values=array([0.325, 1.226, 1.961, 2.718, 3.752, 4.592, 6.546]), significance_level=0.001)"
      ]
     },
     "execution_count": 51,
     "metadata": {},
     "output_type": "execute_result"
    }
   ],
   "source": [
    "anderson_ksamp([g_pt_y, f_pt_y])"
   ]
  },
  {
   "cell_type": "code",
   "execution_count": 52,
   "id": "b8ed7d74",
   "metadata": {},
   "outputs": [
    {
     "name": "stderr",
     "output_type": "stream",
     "text": [
      "C:\\Users\\sivan\\AppData\\Local\\Temp\\ipykernel_12676\\2085568156.py:1: UserWarning: p-value floored: true value smaller than 0.001\n",
      "  anderson_ksamp([g_pt_z, f_pt_z])\n"
     ]
    },
    {
     "data": {
      "text/plain": [
       "Anderson_ksampResult(statistic=412.9598104344423, critical_values=array([0.325, 1.226, 1.961, 2.718, 3.752, 4.592, 6.546]), significance_level=0.001)"
      ]
     },
     "execution_count": 52,
     "metadata": {},
     "output_type": "execute_result"
    }
   ],
   "source": [
    "anderson_ksamp([g_pt_z, f_pt_z])"
   ]
  },
  {
   "cell_type": "code",
   "execution_count": null,
   "id": "245efc38",
   "metadata": {},
   "outputs": [],
   "source": []
  }
 ],
 "metadata": {
  "kernelspec": {
   "display_name": "Python 3 (ipykernel)",
   "language": "python",
   "name": "python3"
  },
  "language_info": {
   "codemirror_mode": {
    "name": "ipython",
    "version": 3
   },
   "file_extension": ".py",
   "mimetype": "text/x-python",
   "name": "python",
   "nbconvert_exporter": "python",
   "pygments_lexer": "ipython3",
   "version": "3.10.9"
  }
 },
 "nbformat": 4,
 "nbformat_minor": 5
}
